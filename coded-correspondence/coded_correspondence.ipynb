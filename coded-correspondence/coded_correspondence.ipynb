{
 "cells": [
  {
   "cell_type": "markdown",
   "metadata": {},
   "source": [
    "# Codecademy: Learn Python3 Off-Platform Project: Coded Correspondence\n",
    "---\n",
    "\n",
    "**N.B.** This project was completed as part of the Codecademy Learn Python 3 Course.\n",
    "\n",
    "---\n",
    "\n",
    "## Project Overview\n",
    "\n",
    "*You and your pen pal, Vishal, have been exchanging letters for some time now. Recently, he has become interested in cryptography and the two of you have started sending encoded messages within your letters. In this project, you will use your Python skills to decipher the messages you receive and to encode your own responses! Put your programming skills to the test with these fun cryptography puzzles. Here is his most recent letter:* \n",
    "\n",
    "    Hey there! How have you been? I've been great! I just learned about this really cool type of cipher called a Caesar Cipher. Here's how it works: You take your message, something like \"hello\" and then you shift all of the letters by a certain offset. \n",
    "\n",
    "    For example, if I chose an offset of 3 and a message of \"hello\", I would encode my message by shifting each letter 3 places to the left with respect to the alphabet. So \"h\" becomes \"e\", \"e\" becomes \"b\", \"l\" becomes \"i\", and \"o\" becomes \"l\". Then I have my encoded message, \"ebiil\"! Now I can send you my message and the offset and you can decode it by shifting each letter 3 places to the right. The best thing is that Julius Caesar himself used this cipher, that's why it's called the Caesar Cipher! Isn't that so cool! Okay, now I'm going to send you a longer encoded message that you have to decode yourself!\n",
    "    \n",
    "        xuo jxuhu! jxyi yi qd unqcfbu ev q squiqh syfxuh. muhu oek qrbu je tusetu yj? y xefu ie! iudt cu q cuiiqwu rqsa myjx jxu iqcu evviuj!\n",
    "    \n",
    "    This message has an offset of 10. Can you decode it?\n",
    "\n",
    "---\n",
    "\n",
    "### Task 1: Decode Vishal's Message\n",
    "*In the cell below, use your Python skills to decode Vishal's message and print the result.*"
   ]
  },
  {
   "cell_type": "code",
   "execution_count": 41,
   "metadata": {},
   "outputs": [],
   "source": [
    "#Declare and initialise the roman alphabet (lower case) as a string\n",
    "alphabet = \"abcdefghijklmnopqrstuvwxyz\""
   ]
  },
  {
   "cell_type": "code",
   "execution_count": 42,
   "metadata": {},
   "outputs": [],
   "source": [
    "#Declare and initialise the message to be deciphered\n",
    "encoded_message = \"xuo jxuhu! jxyi yi qd unqcfbu ev q squiqh syfxuh. muhu oek qrbu je tusetu yj? y xefu ie! iudt cu q cuiiqwu rqsa myjx jxu iqcu evviuj!\"\n",
    "\n",
    "#To avoid errors during decoding, ensure all characters in the message are lower case\n",
    "encoded_message = encoded_message.lower()\n",
    "\n",
    "#Declare and initialise the decoded message as an empty string\n",
    "decoded_message = \"\""
   ]
  },
  {
   "cell_type": "code",
   "execution_count": 43,
   "metadata": {},
   "outputs": [],
   "source": [
    "#Iterate over all characters in the message to be deciphered\n",
    "for char in encoded_message:\n",
    "    #If the character is not part of the roman alphabet, it can be appended as-is to the decoded message\n",
    "    if not char in alphabet:\n",
    "        decoded_message += char\n",
    "    #Otherwise, reverse the character's offset and append it to the decoded message\n",
    "    else:\n",
    "        i = alphabet.find(char)\n",
    "        decoded_message += alphabet[(i +10) % 26]"
   ]
  },
  {
   "cell_type": "code",
   "execution_count": 44,
   "metadata": {},
   "outputs": [
    {
     "name": "stdout",
     "output_type": "stream",
     "text": [
      "Vishal's message reads: \n",
      "\n",
      "\t hey there! this is an example of a caesar cipher. were you able to decode it? i hope so! send me a message back with the same offset!\n"
     ]
    }
   ],
   "source": [
    "#Print the decoded message\n",
    "print(\"Vishal's message reads: \\n\")\n",
    "print(f\"\\t {decoded_message}\")"
   ]
  },
  {
   "cell_type": "markdown",
   "metadata": {},
   "source": [
    "---\n",
    "\n",
    "### Task 2: Send Vishal a Coded Message\n",
    "*Great job! Now send Vishal back a message using the same offset. Your message can be anything you want! Remember, encoding happens in opposite direction of decoding.*"
   ]
  },
  {
   "cell_type": "code",
   "execution_count": 45,
   "metadata": {},
   "outputs": [],
   "source": [
    "#Declare and initialse the message to be encrypted\n",
    "unencoded_message = \"hello, vishal! yes, i was able to decode the message. here is another message using caesar cipher.\"\n",
    "\n",
    "#To avoid errors during encoding, ensure all characters in the message are lower case\n",
    "unencoded_message = unencoded_message.lower()\n",
    "\n",
    "#Declare and initialise the encoded message as an empty string\n",
    "encoded_message =  \"\""
   ]
  },
  {
   "cell_type": "code",
   "execution_count": 46,
   "metadata": {},
   "outputs": [],
   "source": [
    "#Iterate over all characters in the message to be encrypted\n",
    "for char in unencoded_message:\n",
    "    #If the character is not part of the roman alphabet, it can be appended as-is to the decoded message\n",
    "    if not char in alphabet:\n",
    "        encoded_message += char\n",
    "    #Otherwise, apply the character's offset and append it to the encoded message\n",
    "    else:\n",
    "        i = alphabet.find(char)\n",
    "        encoded_message += alphabet[(i -10) % 26]"
   ]
  },
  {
   "cell_type": "code",
   "execution_count": 47,
   "metadata": {},
   "outputs": [
    {
     "name": "stdout",
     "output_type": "stream",
     "text": [
      "My encoded message reads: \n",
      "\n",
      "\t xubbe, lyixqb! oui, y mqi qrbu je tusetu jxu cuiiqwu. xuhu yi qdejxuh cuiiqwu kiydw squiqh syfxuh.\n"
     ]
    }
   ],
   "source": [
    "#Print the encoded message\n",
    "print(\"My encoded message reads: \\n\")\n",
    "print(f\"\\t {encoded_message}\")"
   ]
  },
  {
   "cell_type": "markdown",
   "metadata": {},
   "source": [
    "---\n",
    "\n",
    "### Step 3: Make functions for decoding and coding \n",
    "\n",
    "*Vishal sent over another reply, this time with two coded messages!*\n",
    "    \n",
    "    You're getting the hang of this! Okay here are two more messages, the first one is coded just like before with an offset of ten, and it contains a hint for decoding the second message!\n",
    "\n",
    "    First message:\n",
    "    \n",
    "        jxu evviuj veh jxu iusedt cuiiqwu yi vekhjuud.\n",
    "        \n",
    "    Second message:\n",
    "    \n",
    "        bqdradyuzs ygxfubxq omqemd oubtqde fa oapq kagd yqeemsqe ue qhqz yadq eqogdq!\n",
    "    \n",
    "*Decode both of these messages.*\n",
    "\n",
    "*If you haven't already, define two functions `caesar_decode(message, offset)` and `caesar_encode(message, offset)` that can be used to quickly decode and encode messages given any offset.*"
   ]
  },
  {
   "cell_type": "code",
   "execution_count": 48,
   "metadata": {},
   "outputs": [],
   "source": [
    "#Declare the caesar_decode function with the required parameters\n",
    "def caesar_decode(message, offset):\n",
    "    #Declare and initialise the decoded message as an empty string\n",
    "    decoded_message = \"\"\n",
    "    #To avoid errors during decoding, ensure all characters in the message are lower case\n",
    "    message = message.lower()\n",
    "\n",
    "    #Ensure the offset is an integer to avoid unexpected function behaviour\n",
    "    if not isinstance(offset, int):\n",
    "        return \"Error: Offset must be an integer.\"\n",
    "    #Iterate over all characters in the message\n",
    "    for char in message:\n",
    "        #If the character is not part of the roman alphabet, it can be appended as-is to the decoded message\n",
    "        if not char in alphabet:\n",
    "            decoded_message += char\n",
    "        #Otherwise, reverse the character's offset and append it to the decoded message\n",
    "        else:\n",
    "            i = alphabet.find(char)\n",
    "            decoded_message += alphabet[(i + offset) % 26]\n",
    "    return decoded_message"
   ]
  },
  {
   "cell_type": "code",
   "execution_count": 49,
   "metadata": {},
   "outputs": [],
   "source": [
    "#Declare the caesar_encode function with the required parameters\n",
    "def caesar_encode(message, offset):\n",
    "    #Declare and initialise the encoded message as an empty string\n",
    "    encoded_message = \"\"\n",
    "    #To avoid errors during encoding, ensure all characters in the message are lower case\n",
    "    message = message.lower()\n",
    "\n",
    "    #Ensure the offset is an integer to avoid unexpected function behaviour\n",
    "    if not isinstance(offset, int):\n",
    "        return \"Error: Offset must be an integer.\"\n",
    "    #Iterate over all characters in the message\n",
    "    for char in message:\n",
    "        #If the character is not part of the roman alphabet, it can be appended as-is to the encoded message\n",
    "        if not char in alphabet:\n",
    "            encoded_message += char\n",
    "        #Otherwise, apply the character's offset and append it to the encoded message\n",
    "        else:\n",
    "            i = alphabet.find(char)\n",
    "            encoded_message += alphabet[(i - offset) % 26]\n",
    "    return encoded_message"
   ]
  },
  {
   "cell_type": "code",
   "execution_count": 50,
   "metadata": {},
   "outputs": [
    {
     "name": "stdout",
     "output_type": "stream",
     "text": [
      "Vishal's decoded message reads: \n",
      "\n",
      "\t the offset for the second message is fourteen.\n"
     ]
    }
   ],
   "source": [
    "#Print the decoded message\n",
    "print(\"Vishal's decoded message reads: \\n\")\n",
    "print(f\"\\t {caesar_decode(\"jxu evviuj veh jxu iusedt cuiiqwu yi vekhjuud.\", 10)}\")"
   ]
  },
  {
   "cell_type": "code",
   "execution_count": 51,
   "metadata": {},
   "outputs": [
    {
     "name": "stdout",
     "output_type": "stream",
     "text": [
      "Vishal's decoded message reads: \n",
      "\n",
      "\t performing multiple caesar ciphers to code your messages is even more secure!\n"
     ]
    }
   ],
   "source": [
    "#Print the decoded message\n",
    "print(\"Vishal's decoded message reads: \\n\")\n",
    "print(f\"\\t {caesar_decode(\"bqdradyuzs ygxfubxq omqemd oubtqde fa oapq kagd yqeemsqe ue qhqz yadq eqogdq!\", 14)}\")"
   ]
  },
  {
   "cell_type": "markdown",
   "metadata": {},
   "source": [
    "---\n",
    "\n",
    "### Step 4: Solving a Caesar Cipher without knowing the shift value\n",
    "\n",
    "*Awesome work! While you were working to decode his last two messages, Vishal sent over another letter! He's really been bitten by the crypto-bug. Read it and see what interesting task he has lined up for you this time.*\n",
    "\n",
    "    Hello again friend! I knew you would love the Caesar Cipher, it's a cool, simple way to encrypt messages. Did you know that back in Caesar's time, it was considered a very secure way of communication and it took a lot of effort to crack if you were unaware of the value of the shift? That's all changed with computers! Now we can brute force these kinds of ciphers very quickly, as I'm sure you can imagine.\n",
    "            \n",
    "    To test your cryptography skills, this next coded message is going to be harder than the last couple to crack. It's still going to be coded with a Caesar Cipher but this time I'm not going to tell you the value of the shift. You'll have to brute force it yourself.\n",
    "            \n",
    "    Here's the coded message:\n",
    "            \n",
    "        vhfinmxkl atox kxgwxkxw tee hy maxlx hew vbiaxkl hulhexmx. px'ee atox mh kxteer lmxi ni hnk ztfx by px ptgm mh dxxi hnk fxlltzxl ltyx.\n",
    "            \n",
    "    Good luck!\n",
    "            \n",
    "*Decode Vishal's most recent message and see what it says!*"
   ]
  },
  {
   "cell_type": "code",
   "execution_count": 52,
   "metadata": {},
   "outputs": [],
   "source": [
    "#Declare the message to be deciphered\n",
    "encoded_message = \"vhfinmxkl atox kxgwxkxw tee hy maxlx hew vbiaxkl hulhexmx. px'ee atox mh kxteer lmxi ni hnk ztfx by px ptgm mh dxxi hnk fxlltzxl ltyx.\""
   ]
  },
  {
   "cell_type": "code",
   "execution_count": 53,
   "metadata": {},
   "outputs": [
    {
     "name": "stdout",
     "output_type": "stream",
     "text": [
      "Offset 0 renders the cipher:\n",
      "\t  vhfinmxkl atox kxgwxkxw tee hy maxlx hew vbiaxkl hulhexmx. px'ee atox mh kxteer lmxi ni hnk ztfx by px ptgm mh dxxi hnk fxlltzxl ltyx.\n",
      "\n",
      "Offset 1 renders the cipher:\n",
      "\t  wigjonylm bupy lyhxylyx uff iz nbymy ifx wcjbylm ivmifyny. qy'ff bupy ni lyuffs mnyj oj iol augy cz qy quhn ni eyyj iol gymmuaym muzy.\n",
      "\n",
      "Offset 2 renders the cipher:\n",
      "\t  xjhkpozmn cvqz mziyzmzy vgg ja ocznz jgy xdkczmn jwnjgzoz. rz'gg cvqz oj mzvggt nozk pk jpm bvhz da rz rvio oj fzzk jpm hznnvbzn nvaz.\n",
      "\n",
      "Offset 3 renders the cipher:\n",
      "\t  ykilqpano dwra najzanaz whh kb pdaoa khz yeldano kxokhapa. sa'hh dwra pk nawhhu opal ql kqn cwia eb sa swjp pk gaal kqn iaoowcao owba.\n",
      "\n",
      "Offset 4 renders the cipher:\n",
      "\t  zljmrqbop exsb obkaboba xii lc qebpb lia zfmebop lyplibqb. tb'ii exsb ql obxiiv pqbm rm lro dxjb fc tb txkq ql hbbm lro jbppxdbp pxcb.\n",
      "\n",
      "Offset 5 renders the cipher:\n",
      "\t  amknsrcpq fytc pclbcpcb yjj md rfcqc mjb agnfcpq mzqmjcrc. uc'jj fytc rm pcyjjw qrcn sn msp eykc gd uc uylr rm iccn msp kcqqyecq qydc.\n",
      "\n",
      "Offset 6 renders the cipher:\n",
      "\t  bnlotsdqr gzud qdmcdqdc zkk ne sgdrd nkc bhogdqr narnkdsd. vd'kk gzud sn qdzkkx rsdo to ntq fzld he vd vzms sn jddo ntq ldrrzfdr rzed.\n",
      "\n",
      "Offset 7 renders the cipher:\n",
      "\t  computers have rendered all of these old ciphers obsolete. we'll have to really step up our game if we want to keep our messages safe.\n",
      "\n",
      "Offset 8 renders the cipher:\n",
      "\t  dpnqvufst ibwf sfoefsfe bmm pg uiftf pme djqifst pctpmfuf. xf'mm ibwf up sfbmmz tufq vq pvs hbnf jg xf xbou up lffq pvs nfttbhft tbgf.\n",
      "\n",
      "Offset 9 renders the cipher:\n",
      "\t  eqorwvgtu jcxg tgpfgtgf cnn qh vjgug qnf ekrjgtu qduqngvg. yg'nn jcxg vq tgcnna uvgr wr qwt icog kh yg ycpv vq mggr qwt oguucigu uchg.\n",
      "\n",
      "Offset 10 renders the cipher:\n",
      "\t  frpsxwhuv kdyh uhqghuhg doo ri wkhvh rog flskhuv revrohwh. zh'oo kdyh wr uhdoob vwhs xs rxu jdph li zh zdqw wr nhhs rxu phvvdjhv vdih.\n",
      "\n",
      "Offset 11 renders the cipher:\n",
      "\t  gsqtyxivw lezi virhivih epp sj xliwi sph gmtlivw sfwspixi. ai'pp lezi xs vieppc wxit yt syv keqi mj ai aerx xs oiit syv qiwwekiw weji.\n",
      "\n",
      "Offset 12 renders the cipher:\n",
      "\t  htruzyjwx mfaj wjsijwji fqq tk ymjxj tqi hnumjwx tgxtqjyj. bj'qq mfaj yt wjfqqd xyju zu tzw lfrj nk bj bfsy yt pjju tzw rjxxfljx xfkj.\n",
      "\n",
      "Offset 13 renders the cipher:\n",
      "\t  iusvazkxy ngbk xktjkxkj grr ul znkyk urj iovnkxy uhyurkzk. ck'rr ngbk zu xkgrre yzkv av uax mgsk ol ck cgtz zu qkkv uax skyygmky yglk.\n",
      "\n",
      "Offset 14 renders the cipher:\n",
      "\t  jvtwbalyz ohcl yluklylk hss vm aolzl vsk jpwolyz vizvslal. dl'ss ohcl av ylhssf zalw bw vby nhtl pm dl dhua av rllw vby tlzzhnlz zhml.\n",
      "\n",
      "Offset 15 renders the cipher:\n",
      "\t  kwuxcbmza pidm zmvlmzml itt wn bpmam wtl kqxpmza wjawtmbm. em'tt pidm bw zmittg abmx cx wcz oium qn em eivb bw smmx wcz umaaioma ainm.\n",
      "\n",
      "Offset 16 renders the cipher:\n",
      "\t  lxvydcnab qjen anwmnanm juu xo cqnbn xum lryqnab xkbxuncn. fn'uu qjen cx anjuuh bcny dy xda pjvn ro fn fjwc cx tnny xda vnbbjpnb bjon.\n",
      "\n",
      "Offset 17 renders the cipher:\n",
      "\t  mywzedobc rkfo boxnobon kvv yp droco yvn mszrobc ylcyvodo. go'vv rkfo dy bokvvi cdoz ez yeb qkwo sp go gkxd dy uooz yeb wocckqoc ckpo.\n",
      "\n",
      "Offset 18 renders the cipher:\n",
      "\t  nzxafepcd slgp cpyopcpo lww zq espdp zwo ntaspcd zmdzwpep. hp'ww slgp ez cplwwj depa fa zfc rlxp tq hp hlye ez vppa zfc xpddlrpd dlqp.\n",
      "\n",
      "Offset 19 renders the cipher:\n",
      "\t  oaybgfqde tmhq dqzpqdqp mxx ar ftqeq axp oubtqde aneaxqfq. iq'xx tmhq fa dqmxxk efqb gb agd smyq ur iq imzf fa wqqb agd yqeemsqe emrq.\n",
      "\n",
      "Offset 20 renders the cipher:\n",
      "\t  pbzchgref unir eraqrerq nyy bs gurfr byq pvcuref bofbyrgr. jr'yy unir gb ernyyl fgrc hc bhe tnzr vs jr jnag gb xrrc bhe zrffntrf fnsr.\n",
      "\n",
      "Offset 21 renders the cipher:\n",
      "\t  qcadihsfg vojs fsbrsfsr ozz ct hvsgs czr qwdvsfg cpgczshs. ks'zz vojs hc fsozzm ghsd id cif uoas wt ks kobh hc yssd cif asggousg gots.\n",
      "\n",
      "Offset 22 renders the cipher:\n",
      "\t  rdbejitgh wpkt gtcstgts paa du iwtht das rxewtgh dqhdatit. lt'aa wpkt id gtpaan hite je djg vpbt xu lt lpci id ztte djg bthhpvth hput.\n",
      "\n",
      "Offset 23 renders the cipher:\n",
      "\t  secfkjuhi xqlu hudtuhut qbb ev jxuiu ebt syfxuhi eriebuju. mu'bb xqlu je huqbbo ijuf kf ekh wqcu yv mu mqdj je auuf ekh cuiiqwui iqvu.\n",
      "\n",
      "Offset 24 renders the cipher:\n",
      "\t  tfdglkvij yrmv iveuvivu rcc fw kyvjv fcu tzgyvij fsjfcvkv. nv'cc yrmv kf ivrccp jkvg lg fli xrdv zw nv nrek kf bvvg fli dvjjrxvj jrwv.\n",
      "\n",
      "Offset 25 renders the cipher:\n",
      "\t  ugehmlwjk zsnw jwfvwjwv sdd gx lzwkw gdv uahzwjk gtkgdwlw. ow'dd zsnw lg jwsddq klwh mh gmj ysew ax ow osfl lg cwwh gmj ewkksywk ksxw.\n",
      "\n"
     ]
    }
   ],
   "source": [
    "#Brute force decode the encrypted message using various offsets\n",
    "for i in range(26): \n",
    "    print(f\"Offset {i} renders the cipher:\")\n",
    "    print(f\"\\t  {caesar_decode(encoded_message, i)}\\n\")"
   ]
  },
  {
   "cell_type": "markdown",
   "metadata": {},
   "source": [
    "---\n",
    "\n",
    "### Step 5: The Vigenère Cipher\n",
    "\n",
    "*Great work! While you were working on the brute force cracking of the cipher, Vishal sent over another letter. That guy is a letter machine!*\n",
    "\n",
    "    Salutations! As you can see, technology has made brute forcing simple ciphers like the Caesar Cipher extremely easy, and us crypto-enthusiasts have had to get more creative and use more complicated ciphers. This next cipher I'm going to teach you is the Vigenère Cipher, invented by an Italian cryptologist named Giovan Battista Bellaso (cool name eh?) in the 16th century, but named after another cryptologist from the 16th century, Blaise de Vigenère.\n",
    "            \n",
    "    The Vigenère Cipher is a polyalphabetic substitution cipher, as opposed to the Caesar Cipher which was a monoalphabetic substitution cipher. What this means is that opposed to having a single shift that is applied to every letter, the Vigenère Cipher has a different shift for each individual letter. The value of the shift for each letter is determined by a given keyword.\n",
    "           \n",
    "    Consider the message:\n",
    "           \n",
    "        barry is the spy\n",
    "\n",
    "    If we want to code this message, first we choose a keyword. For this example, we'll use the keyword\n",
    "           \n",
    "        dog\n",
    "               \n",
    "    Now we repeat the keyword over and over to generate a keyword phrase that is the same length as the message we want to code. So if we want to code the message \"barry is the spy\" our keyword phrase is \"dogdo gd ogd ogd\". Now we are ready to start coding our message. We shift each letter of our message by the place value of the corresponding letter in the keyword phrase, assuming that \"a\" has a place value of 0, \"b\" has a place value of 1, and so forth.\n",
    "\n",
    "                  message:    b  a  r  r  y    i  s    t  h  e    s  p  y\n",
    "                \n",
    "           keyword phrase:    d  o  g  d  o    g  d    o  g  d    o  g  d\n",
    "                 \n",
    "    resulting place value:    24 12 11 14 10   2  15   5  1  1    4  9  21\n",
    "      \n",
    "    So we shift \"b\", which has an index of 1, by the index of \"d\", which is 3. This gives us an place value of 24, which is \"y\". Remember to loop back around when we reach either end of the alphabet! Then continue the trend: we shift \"a\" by the place value of \"o\", 14, and get \"m\", we shift \"r\" by the place value of \"g\", 15, and get \"l\", shift the next \"r\" by 4 places and get \"o\", and so forth. Once we complete all the shifts we end up with our coded message:\n",
    "            \n",
    "        ymlok cp fbb ejv\n",
    "                \n",
    "    As you can imagine, this is a lot harder to crack without knowing the keyword! So now comes the hard part. I'll give you a message and the keyword, and you'll see if you can figure out how to crack it! Ready? Okay here's my message:\n",
    "            \n",
    "        txm srom vkda gl lzlgzr qpdb? fepb ejac! ubr imn tapludwy mhfbz cza ruxzal wg zztcgcexxch!\n",
    "                \n",
    "    and the keyword to decode my message is \n",
    "            \n",
    "        friends\n",
    "                \n",
    "    Because that's what we are! Good luck friend!\n",
    "           \n",
    "*And there it is. Vishal has given you quite the assignment this time! Try to decode his message. It may be helpful to create a function that takes two parameters &mdash; the coded message and the keyword &mdash; then work towards a solution from there.*"
   ]
  },
  {
   "cell_type": "code",
   "execution_count": 54,
   "metadata": {},
   "outputs": [],
   "source": [
    "#Declare and initialise the message to be deciphered\n",
    "encoded_message = \"txm srom vkda gl lzlgzr qpdb? fepb ejac! ubr imn tapludwy mhfbz cza ruxzal wg zztcgcexxch!\"\n",
    "\n",
    "#To avoid errors during decoding, ensure all characters in the message are lower case\n",
    "encoded_message = encoded_message.lower()"
   ]
  },
  {
   "cell_type": "code",
   "execution_count": 55,
   "metadata": {},
   "outputs": [],
   "source": [
    "#To optimise the time complexity of the vigenère function, use a hash map (dictionary) instead of repeatedly calling .find() on a string.\n",
    "#A dictionary provides O(1) average time complexity for lookups, whereas .find() on a string has O(n) time complexity.\n",
    "#This ensures faster index look-ups when processing each character in the message.\n",
    "alphabet_dict = {char: index for index, char in enumerate(alphabet)}"
   ]
  },
  {
   "cell_type": "code",
   "execution_count": 56,
   "metadata": {},
   "outputs": [],
   "source": [
    "#Declare the vigenere_decode function with the required parameters\n",
    "def vigenere_decode(message, keyword):\n",
    "    #Ensure both arguments are strings to avoid unexpected function behaviour\n",
    "    if all(isinstance(arg, str) for arg in [message, keyword]):\n",
    "        #Declare and initialise the decoded message as an empty string\n",
    "        decoded_message = \"\"\n",
    "        #Declare and initialise the keyword phrase as an empty string\n",
    "        keyword_phrase = \"\"\n",
    "        #Initialise an index counter for cycling through the keyword\n",
    "        i = 0\n",
    "        \n",
    "        #Iterate over all characters in the message to generate the keyword phrase\n",
    "        for char in message:\n",
    "            #If the character is not part of the roman alphabet, it can be appended as-is to the keyword phrase\n",
    "            if char not in alphabet:\n",
    "                keyword_phrase += char\n",
    "            #Otherwise, use the corresponding character from the keyword\n",
    "            else:\n",
    "                keyword_phrase += keyword[i]\n",
    "                #Increment the index for the keyword\n",
    "                i += 1\n",
    "                #If the index reaches the length of the keyword, reset it to 0\n",
    "                if i == len(keyword):\n",
    "                    i = 0          \n",
    "\n",
    "        #Iterate over the length of the message\n",
    "        for i in range(len(message)):\n",
    "            #If the character is not part of the roman alphabet, it can be appended as-is to the decoded message\n",
    "            if message[i] not in alphabet_dict:\n",
    "                decoded_message += message[i]\n",
    "            #Otherwise, reverse the character's offset and append it to the decoded message\n",
    "            else:\n",
    "                offset_i = alphabet_dict[keyword_phrase[i]]\n",
    "                char_i = alphabet_dict[message[i]]\n",
    "                decoded_message += alphabet[(char_i + offset_i) % 26]\n",
    "\n",
    "        return decoded_message\n",
    "    else:\n",
    "        return \"Error: Inputs must be strings\"  "
   ]
  },
  {
   "cell_type": "code",
   "execution_count": 57,
   "metadata": {},
   "outputs": [
    {
     "name": "stdout",
     "output_type": "stream",
     "text": [
      "Vishal's decoded message reads: \n",
      "\n",
      "\t you were able to decode this? nice work! you are becoming quite the expert at crytography!\n"
     ]
    }
   ],
   "source": [
    "#Print the decoded message\n",
    "print(\"Vishal's decoded message reads: \\n\")\n",
    "print(f\"\\t {vigenere_decode(encoded_message, \"friends\")}\")"
   ]
  },
  {
   "cell_type": "markdown",
   "metadata": {
    "jupyter": {
     "outputs_hidden": true
    }
   },
   "source": [
    "---\n",
    "\n",
    "### Step 6: Send a message with the  Vigenère Cipher\n",
    "*Great work decoding the message. For your final task, write a function that can encode a message using a given keyword and write out a message to send to Vishal!*\n",
    "\n",
    "*As a bonus, try calling your decoder function on the result of your encryption function. You should get the original message back!*"
   ]
  },
  {
   "cell_type": "code",
   "execution_count": 58,
   "metadata": {},
   "outputs": [],
   "source": [
    "#Declare the vigenere_encode function with the required parameters\n",
    "def vigenere_encode(message, keyword):\n",
    "    #Ensure both arguments are strings to avoid unexpected function behaviour\n",
    "    if all(isinstance(arg, str) for arg in [message, keyword]):\n",
    "        #Declare and initialise the encoded message as an empty string\n",
    "        encoded_message = \"\"\n",
    "        #Declare and initialise the keyword phrase as an empty string\n",
    "        keyword_phrase = \"\"\n",
    "        #Initialise an index counter for cycling through the keyword\n",
    "        i = 0\n",
    "        \n",
    "        #Iterate over all characters in the message to generate the keyword phrase\n",
    "        for char in message:\n",
    "            #If the character is not part of the roman alphabet, it can be appended as-is to the keyword phrase\n",
    "            if char not in alphabet:\n",
    "                keyword_phrase += char\n",
    "            #Otherwise, use the corresponding character from the keyword\n",
    "            else:\n",
    "                keyword_phrase += keyword[i]\n",
    "                #Increment the index for the keyword\n",
    "                i += 1\n",
    "                #If the index reaches the length of the keyword, reset it to 0\n",
    "                if i == len(keyword):\n",
    "                    i = 0          \n",
    "\n",
    "        #Iterate over the length of the message\n",
    "        for i in range(len(message)):\n",
    "            #If the character is not part of the roman alphabet, it can be appended as-is to the encoded message\n",
    "            if message[i] not in alphabet_dict:\n",
    "                encoded_message += message[i]\n",
    "            #Otherwise, apply the character's offset and append it to the encoded message\n",
    "            else:\n",
    "                offset_i = alphabet_dict[keyword_phrase[i]]\n",
    "                char_i = alphabet_dict[message[i]]\n",
    "                encoded_message += alphabet[(char_i - offset_i) % 26]\n",
    "\n",
    "        return encoded_message\n",
    "    else:\n",
    "        return \"Error: Inputs must be strings\"  "
   ]
  },
  {
   "cell_type": "code",
   "execution_count": 59,
   "metadata": {},
   "outputs": [],
   "source": [
    "#Declare and initialise the message to be encrypted\n",
    "message = \"wow, the vigenere cipher is pretty cool. do you know of any other cool ciphers?\"\n",
    "\n",
    "#To avoid errors during encoding, ensure all characters in the message string are lower case\n",
    "message = message.lower()"
   ]
  },
  {
   "cell_type": "code",
   "execution_count": 60,
   "metadata": {},
   "outputs": [
    {
     "name": "stdout",
     "output_type": "stream",
     "text": [
      "My encoded message reads: \n",
      "\n",
      "\t hqd, mtr gknxzrcg jbbupt pl bepvar obzn. kh kbf muhi bq cur agsgy vabw epitrcu?\n"
     ]
    }
   ],
   "source": [
    "#Print the encoded message\n",
    "print(\"My encoded message reads: \\n\")\n",
    "print(f\"\\t {vigenere_encode(message, \"python\")}\")"
   ]
  },
  {
   "cell_type": "markdown",
   "metadata": {},
   "source": [
    "---\n",
    "\n",
    "## Conclusion\n",
    "*Over the course of this project you've learned about two different cipher methods and have used your Python skills to code and decode messages. There are all types of other facinating ciphers out there to explore, and Python is the perfect language to implement them with, so go exploring! *"
   ]
  }
 ],
 "metadata": {
  "kernelspec": {
   "display_name": "Python 3 (ipykernel)",
   "language": "python",
   "name": "python3"
  },
  "language_info": {
   "codemirror_mode": {
    "name": "ipython",
    "version": 3
   },
   "file_extension": ".py",
   "mimetype": "text/x-python",
   "name": "python",
   "nbconvert_exporter": "python",
   "pygments_lexer": "ipython3",
   "version": "3.11.5"
  }
 },
 "nbformat": 4,
 "nbformat_minor": 4
}
